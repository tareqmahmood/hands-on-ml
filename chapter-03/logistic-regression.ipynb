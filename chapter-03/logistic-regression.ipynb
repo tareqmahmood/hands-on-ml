{
 "cells": [
  {
   "cell_type": "code",
   "execution_count": 1,
   "id": "8ea63377-a1fb-4e3b-acb9-f2b07b04ac61",
   "metadata": {},
   "outputs": [],
   "source": [
    "import matplotlib.pyplot as plt\n",
    "import numpy as np"
   ]
  },
  {
   "cell_type": "code",
   "execution_count": 2,
   "id": "530a89b2-9023-4719-b2dd-3c86ac4c263a",
   "metadata": {},
   "outputs": [],
   "source": [
    "def sigmoid(z):\n",
    "    return 1 / (1 + np.exp(-z))"
   ]
  },
  {
   "cell_type": "markdown",
   "id": "e32c182d-5ee1-4ca2-8b44-e09a0a4e7c4d",
   "metadata": {},
   "source": [
    "# Shape of Sigmoid"
   ]
  },
  {
   "cell_type": "code",
   "execution_count": 22,
   "id": "5d4a0a1d-4c04-4e75-8e03-9459876e54da",
   "metadata": {},
   "outputs": [
    {
     "data": {
      "text/plain": [
       "array([0.26894142, 0.2890505 , 0.31002552, 0.33181223, 0.35434369,\n",
       "       0.37754067, 0.40131234, 0.42555748, 0.450166  , 0.47502081,\n",
       "       0.5       , 0.52497919, 0.549834  , 0.57444252, 0.59868766,\n",
       "       0.62245933, 0.64565631, 0.66818777, 0.68997448, 0.7109495 ])"
      ]
     },
     "execution_count": 22,
     "metadata": {},
     "output_type": "execute_result"
    }
   ],
   "source": [
    "x = np.arange(-1, 1, 0.1)\n",
    "1 / (1 + np.exp(-x))"
   ]
  },
  {
   "cell_type": "code",
   "execution_count": 39,
   "id": "bffd0d0d-8ef8-40de-898c-c17cfe666152",
   "metadata": {},
   "outputs": [
    {
     "data": {
      "image/png": "[encoded data removed]",
      "text/plain": [
       "<Figure size 640x480 with 1 Axes>"
      ]
     },
     "metadata": {},
     "output_type": "display_data"
    }
   ],
   "source": [
    "b0 = 0\n",
    "b1 = 0.2\n",
    "\n",
    "x = np.arange(-20, 20, 0.1)\n",
    "z = b1 * x + b0\n",
    "p = sigmoid(z)\n",
    "\n",
    "plt.grid()\n",
    "plt.plot(x, p)\n",
    "plt.show()"
   ]
  },
  {
   "cell_type": "markdown",
   "id": "3fbeec23-920c-47f2-95d2-cd819a904da1",
   "metadata": {},
   "source": [
    "# Log-Loss"
   ]
  },
  {
   "cell_type": "code",
   "execution_count": 57,
   "id": "ba483f44-4d00-4ec1-97f0-4bcfb91285c7",
   "metadata": {},
   "outputs": [],
   "source": [
    "def log_loss(y, p):\n",
    "    # y = 0 or 1\n",
    "    # 0 <= p <= 1\n",
    "    if y == 1:\n",
    "        return -np.log(p)\n",
    "    else:\n",
    "        return -np.log(1 - p)\n",
    "    # return -(y * np.log(p) + (1 - y) * np.log(1 - p))"
   ]
  },
  {
   "cell_type": "code",
   "execution_count": 58,
   "id": "ba656253-0e7f-4813-8257-a97a48161666",
   "metadata": {},
   "outputs": [
    {
     "data": {
      "text/plain": [
       "-0.0"
      ]
     },
     "execution_count": 58,
     "metadata": {},
     "output_type": "execute_result"
    }
   ],
   "source": [
    "log_loss(y=1, p=1)"
   ]
  },
  {
   "cell_type": "code",
   "execution_count": 59,
   "id": "8c998568-3656-4fc2-95ec-6bdf8d2747a0",
   "metadata": {},
   "outputs": [
    {
     "data": {
      "text/plain": [
       "-0.0"
      ]
     },
     "execution_count": 59,
     "metadata": {},
     "output_type": "execute_result"
    }
   ],
   "source": [
    "log_loss(y=0, p=0)"
   ]
  },
  {
   "cell_type": "code",
   "execution_count": 60,
   "id": "80b1930e-acac-441e-92b0-4e0012d20767",
   "metadata": {},
   "outputs": [
    {
     "data": {
      "text/plain": [
       "0.10536051565782628"
      ]
     },
     "execution_count": 60,
     "metadata": {},
     "output_type": "execute_result"
    }
   ],
   "source": [
    "log_loss(y=1, p=0.9)"
   ]
  },
  {
   "cell_type": "code",
   "execution_count": 61,
   "id": "69c38216-546a-4c70-90fc-d45861f3099d",
   "metadata": {},
   "outputs": [
    {
     "data": {
      "text/plain": [
       "0.2231435513142097"
      ]
     },
     "execution_count": 61,
     "metadata": {},
     "output_type": "execute_result"
    }
   ],
   "source": [
    "log_loss(y=1, p=0.8)"
   ]
  },
  {
   "cell_type": "code",
   "execution_count": 62,
   "id": "9c890333-1ab8-4aec-8f8b-5683cc246c5b",
   "metadata": {},
   "outputs": [
    {
     "data": {
      "text/plain": [
       "0.10536051565782628"
      ]
     },
     "execution_count": 62,
     "metadata": {},
     "output_type": "execute_result"
    }
   ],
   "source": [
    "log_loss(y=0, p=0.1)"
   ]
  },
  {
   "cell_type": "code",
   "execution_count": 63,
   "id": "01d4ba94-9679-4d65-9583-51536848cfd2",
   "metadata": {},
   "outputs": [
    {
     "data": {
      "text/plain": [
       "0.2231435513142097"
      ]
     },
     "execution_count": 63,
     "metadata": {},
     "output_type": "execute_result"
    }
   ],
   "source": [
    "log_loss(y=0, p=0.2)"
   ]
  },
  {
   "cell_type": "code",
   "execution_count": null,
   "id": "35682e6c-4e11-4ffc-bb69-c7ba2488f370",
   "metadata": {},
   "outputs": [],
   "source": []
  },
  {
   "cell_type": "code",
   "execution_count": null,
   "id": "7137f541-0c8d-49b9-9485-913fef811cbc",
   "metadata": {},
   "outputs": [],
   "source": []
  },
  {
   "cell_type": "code",
   "execution_count": 71,
   "id": "5dfdb69f-28a6-435a-8d23-9b2b2944cd22",
   "metadata": {},
   "outputs": [
    {
     "data": {
      "text/plain": [
       "20.723265865228342"
      ]
     },
     "execution_count": 71,
     "metadata": {},
     "output_type": "execute_result"
    }
   ],
   "source": [
    "log_loss(y=0, p=0.999999999)"
   ]
  },
  {
   "cell_type": "code",
   "execution_count": null,
   "id": "7567b416-48bc-496e-b997-51a166bb055c",
   "metadata": {},
   "outputs": [],
   "source": []
  },
  {
   "cell_type": "markdown",
   "id": "9b98a67e-f37b-48fc-bb71-ea6f2f667d38",
   "metadata": {},
   "source": [
    "# Iris Data"
   ]
  },
  {
   "cell_type": "code",
   "execution_count": 77,
   "id": "d325bd2f-454a-4c37-8d42-31f83a7eb0b7",
   "metadata": {},
   "outputs": [],
   "source": [
    "import pandas as pd"
   ]
  },
  {
   "cell_type": "code",
   "execution_count": 78,
   "id": "bda0292b-5ed4-4d1d-a381-ae83f2f8027e",
   "metadata": {},
   "outputs": [],
   "source": [
    "data = pd.read_csv('IRIS.csv')"
   ]
  },
  {
   "cell_type": "code",
   "execution_count": 80,
   "id": "86d7ee0d-12f7-4c22-ad13-93c5a02216d7",
   "metadata": {},
   "outputs": [
    {
     "data": {
      "text/plain": [
       "species\n",
       "Iris-setosa        50\n",
       "Iris-versicolor    50\n",
       "Name: count, dtype: int64"
      ]
     },
     "execution_count": 80,
     "metadata": {},
     "output_type": "execute_result"
    }
   ],
   "source": [
    "data['species'].value_counts()"
   ]
  },
  {
   "cell_type": "code",
   "execution_count": 94,
   "id": "4759655a-480a-4c82-9570-986150a398cb",
   "metadata": {},
   "outputs": [],
   "source": [
    "data['species'] = (data['species'] == 'Iris-setosa') * 1"
   ]
  },
  {
   "cell_type": "code",
   "execution_count": 95,
   "id": "3e501af0-503c-466c-9f25-3e7b5366bb5d",
   "metadata": {},
   "outputs": [
    {
     "data": {
      "text/html": [
       "<div>\n",
       "<style scoped>\n",
       "    .dataframe tbody tr th:only-of-type {\n",
       "        vertical-align: middle;\n",
       "    }\n",
       "\n",
       "    .dataframe tbody tr th {\n",
       "        vertical-align: top;\n",
       "    }\n",
       "\n",
       "    .dataframe thead th {\n",
       "        text-align: right;\n",
       "    }\n",
       "</style>\n",
       "<table border=\"1\" class=\"dataframe\">\n",
       "  <thead>\n",
       "    <tr style=\"text-align: right;\">\n",
       "      <th></th>\n",
       "      <th>sepal_length</th>\n",
       "      <th>sepal_width</th>\n",
       "      <th>petal_length</th>\n",
       "      <th>petal_width</th>\n",
       "      <th>species</th>\n",
       "    </tr>\n",
       "  </thead>\n",
       "  <tbody>\n",
       "    <tr>\n",
       "      <th>0</th>\n",
       "      <td>5.1</td>\n",
       "      <td>3.5</td>\n",
       "      <td>1.4</td>\n",
       "      <td>0.2</td>\n",
       "      <td>1</td>\n",
       "    </tr>\n",
       "    <tr>\n",
       "      <th>1</th>\n",
       "      <td>4.9</td>\n",
       "      <td>3.0</td>\n",
       "      <td>1.4</td>\n",
       "      <td>0.2</td>\n",
       "      <td>1</td>\n",
       "    </tr>\n",
       "    <tr>\n",
       "      <th>2</th>\n",
       "      <td>4.7</td>\n",
       "      <td>3.2</td>\n",
       "      <td>1.3</td>\n",
       "      <td>0.2</td>\n",
       "      <td>1</td>\n",
       "    </tr>\n",
       "    <tr>\n",
       "      <th>3</th>\n",
       "      <td>4.6</td>\n",
       "      <td>3.1</td>\n",
       "      <td>1.5</td>\n",
       "      <td>0.2</td>\n",
       "      <td>1</td>\n",
       "    </tr>\n",
       "    <tr>\n",
       "      <th>4</th>\n",
       "      <td>5.0</td>\n",
       "      <td>3.6</td>\n",
       "      <td>1.4</td>\n",
       "      <td>0.2</td>\n",
       "      <td>1</td>\n",
       "    </tr>\n",
       "    <tr>\n",
       "      <th>...</th>\n",
       "      <td>...</td>\n",
       "      <td>...</td>\n",
       "      <td>...</td>\n",
       "      <td>...</td>\n",
       "      <td>...</td>\n",
       "    </tr>\n",
       "    <tr>\n",
       "      <th>95</th>\n",
       "      <td>5.7</td>\n",
       "      <td>3.0</td>\n",
       "      <td>4.2</td>\n",
       "      <td>1.2</td>\n",
       "      <td>0</td>\n",
       "    </tr>\n",
       "    <tr>\n",
       "      <th>96</th>\n",
       "      <td>5.7</td>\n",
       "      <td>2.9</td>\n",
       "      <td>4.2</td>\n",
       "      <td>1.3</td>\n",
       "      <td>0</td>\n",
       "    </tr>\n",
       "    <tr>\n",
       "      <th>97</th>\n",
       "      <td>6.2</td>\n",
       "      <td>2.9</td>\n",
       "      <td>4.3</td>\n",
       "      <td>1.3</td>\n",
       "      <td>0</td>\n",
       "    </tr>\n",
       "    <tr>\n",
       "      <th>98</th>\n",
       "      <td>5.1</td>\n",
       "      <td>2.5</td>\n",
       "      <td>3.0</td>\n",
       "      <td>1.1</td>\n",
       "      <td>0</td>\n",
       "    </tr>\n",
       "    <tr>\n",
       "      <th>99</th>\n",
       "      <td>5.7</td>\n",
       "      <td>2.8</td>\n",
       "      <td>4.1</td>\n",
       "      <td>1.3</td>\n",
       "      <td>0</td>\n",
       "    </tr>\n",
       "  </tbody>\n",
       "</table>\n",
       "<p>100 rows × 5 columns</p>\n",
       "</div>"
      ],
      "text/plain": [
       "    sepal_length  sepal_width  petal_length  petal_width  species\n",
       "0            5.1          3.5           1.4          0.2        1\n",
       "1            4.9          3.0           1.4          0.2        1\n",
       "2            4.7          3.2           1.3          0.2        1\n",
       "3            4.6          3.1           1.5          0.2        1\n",
       "4            5.0          3.6           1.4          0.2        1\n",
       "..           ...          ...           ...          ...      ...\n",
       "95           5.7          3.0           4.2          1.2        0\n",
       "96           5.7          2.9           4.2          1.3        0\n",
       "97           6.2          2.9           4.3          1.3        0\n",
       "98           5.1          2.5           3.0          1.1        0\n",
       "99           5.7          2.8           4.1          1.3        0\n",
       "\n",
       "[100 rows x 5 columns]"
      ]
     },
     "execution_count": 95,
     "metadata": {},
     "output_type": "execute_result"
    }
   ],
   "source": [
    "data"
   ]
  },
  {
   "cell_type": "code",
   "execution_count": 96,
   "id": "43098a05-24bc-4c59-bf7e-dc8fce87bd50",
   "metadata": {},
   "outputs": [],
   "source": [
    "from sklearn.linear_model import LogisticRegression"
   ]
  },
  {
   "cell_type": "code",
   "execution_count": 97,
   "id": "52d6e63c-0a41-4e97-b59f-42ab4f5f3fa4",
   "metadata": {},
   "outputs": [],
   "source": [
    "model = LogisticRegression(random_state=0)"
   ]
  },
  {
   "cell_type": "code",
   "execution_count": 98,
   "id": "39e59bc9-097b-42dc-a4dd-51ce9fc6c2bd",
   "metadata": {},
   "outputs": [],
   "source": [
    "# split"
   ]
  },
  {
   "cell_type": "code",
   "execution_count": 99,
   "id": "f1fb7970-e37e-442b-a9b9-adab9fd7bed6",
   "metadata": {},
   "outputs": [],
   "source": [
    "# train"
   ]
  },
  {
   "cell_type": "code",
   "execution_count": 101,
   "id": "b3ff4391-3bdf-4b95-a41f-c607b7bc916d",
   "metadata": {},
   "outputs": [],
   "source": [
    "# performance metric != loss function"
   ]
  },
  {
   "cell_type": "code",
   "execution_count": 102,
   "id": "04caddfd-0080-4628-a852-0f8e60d3ea5b",
   "metadata": {},
   "outputs": [],
   "source": [
    "y_true = np.array([0, 1, 1, 1, 0])\n",
    "y_pred = np.array([0, 0, 1, 1, 0])"
   ]
  },
  {
   "cell_type": "code",
   "execution_count": 107,
   "id": "51d78bc0-b5ff-41ff-a3de-68938d3a4b27",
   "metadata": {},
   "outputs": [
    {
     "data": {
      "text/plain": [
       "0.8"
      ]
     },
     "execution_count": 107,
     "metadata": {},
     "output_type": "execute_result"
    }
   ],
   "source": [
    "# accuracy = (matched / total)\n",
    "matched = (y_pred == y_true).sum()\n",
    "total = len(y_true)\n",
    "acc = matched / total\n",
    "acc"
   ]
  }
 ],
 "metadata": {
  "kernelspec": {
   "display_name": "Python 3 (ipykernel)",
   "language": "python",
   "name": "python3"
  },
  "language_info": {
   "codemirror_mode": {
    "name": "ipython",
    "version": 3
   },
   "file_extension": ".py",
   "mimetype": "text/x-python",
   "name": "python",
   "nbconvert_exporter": "python",
   "pygments_lexer": "ipython3",
   "version": "3.12.3"
  }
 },
 "nbformat": 4,
 "nbformat_minor": 5
}
